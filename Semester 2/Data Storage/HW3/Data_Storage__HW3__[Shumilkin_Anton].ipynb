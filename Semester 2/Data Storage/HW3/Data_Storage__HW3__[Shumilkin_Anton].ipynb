{
 "cells": [
  {
   "cell_type": "markdown",
   "id": "bcab124b",
   "metadata": {},
   "source": [
    "## Data Storage. HW2. Основные операторы PostgreSQL"
   ]
  },
  {
   "attachments": {},
   "cell_type": "markdown",
   "id": "f8698a6e",
   "metadata": {},
   "source": [
    "### 1. Создать таблицы со следующими структурами и загрузить данные из csv-файлов\n",
    "\n",
    "> Дано два csv-файла с данными о клиентах (customer.csv) и их транзакциях (transaction.csv).\n",
    "> Необходимо создать таблицы со следующими структурами и загрузить данные из csv-файлов."
   ]
  },
  {
   "attachments": {},
   "cell_type": "markdown",
   "id": "c5994f6d",
   "metadata": {},
   "source": [
    "#### Данные таблиц\n",
    "\n",
    "![image](./images/1.1.png)\n",
    "\n",
    "![image](./images/1.2.png)\n",
    "\n",
    "Описание таблицы customer:\n",
    "\n",
    "| Поле                   | Описание                 |\n",
    "|------------------------|-------------------------|\n",
    "| `customer_id`         | id клиента              |\n",
    "| `first_name`         | имя клиента             |\n",
    "| `last_name`         | фамилия клиента         |\n",
    "| `gender`            | пол                     |\n",
    "| `DOB`               | дата рождения           |\n",
    "| `job_title`         | профессия               |\n",
    "| `job_industry_category` | сфера деятельности    |\n",
    "| `wealth_segment`    | сегмент благосостояния   |\n",
    "| `deceased_indicator` | флаг актуального клиента |\n",
    "| `owns_car`          | флаг наличия автомобиля  |\n",
    "| `address`           | адрес проживания        |\n",
    "| `postcode`         | почтовый индекс         |\n",
    "| `state`            | штаты                   |\n",
    "| `country`          | страна проживания       |\n",
    "| `property_valuation` | оценка имущества       |\n",
    "\n",
    "\n",
    "Описание таблицы transaction:\n",
    "\n",
    "| Поле               | Описание              |\n",
    "|--------------------|----------------------|\n",
    "| `transaction_id`  | id транзакции        |\n",
    "| `product_id`      | id продукта          |\n",
    "| `customer_id`     | id клиента           |\n",
    "| `transaction_date` | дата транзакции     |\n",
    "| `online_order`    | флаг онлайн-заказа   |\n",
    "| `order_status`    | статус транзакции    |\n",
    "| `brand`          | бренд                |\n",
    "| `product_line`   | линейка продуктов    |\n",
    "| `product_class`  | класс продукта       |\n",
    "| `product_size`   | размер продукта      |\n",
    "| `list_price`     | цена                 |\n",
    "| `standard_cost`  | стандартная стоимость |"
   ]
  },
  {
   "cell_type": "code",
   "execution_count": null,
   "id": "3b4cd1d6",
   "metadata": {},
   "outputs": [],
   "source": []
  },
  {
   "attachments": {},
   "cell_type": "markdown",
   "id": "a5f31e4a",
   "metadata": {},
   "source": [
    "```SQL\n",
    "\n",
    "-- Создаём таблицы для загрузки файлов `customer.csv` и `transaction.csv`\n",
    "-- Приводим в соответствие со скриншотами\n",
    "\n",
    "CREATE TABLE customers (\n",
    "    customer_id             INT          PRIMARY KEY,\n",
    "    first_name              VARCHAR(50),\n",
    "    last_name               VARCHAR(50),\n",
    "    gender                  VARCHAR(30),\n",
    "    dob                     VARCHAR(50),\n",
    "    job_title               VARCHAR(50),\n",
    "    job_industry_category   VARCHAR(50),\n",
    "    wealth_segment          VARCHAR(50),\n",
    "    deceased_indicator      VARCHAR(50),\n",
    "    owns_car                VARCHAR(30),\n",
    "    address                 VARCHAR(50),\n",
    "    postcode                VARCHAR(30),\n",
    "    state                   VARCHAR(30),\n",
    "    country                 VARCHAR(30),\n",
    "    property_valuation      INT\n",
    ");\n",
    "\n",
    "\n",
    "CREATE TABLE transactions (\n",
    "    transaction_id      INT          PRIMARY KEY,\n",
    "    product_id          INT,\n",
    "    customer_id         INT,\n",
    "    transaction_date    VARCHAR(30),\n",
    "    online_order        BOOLEAN,\n",
    "    order_status        VARCHAR(30),\n",
    "    brand               VARCHAR(30),\n",
    "    product_line        VARCHAR(30),\n",
    "    product_class       VARCHAR(30),\n",
    "    product_size        VARCHAR(30), \n",
    "    list_price          NUMERIC(10, 2), \n",
    "    standard_cost       NUMERIC(10, 2)\n",
    ");\n",
    "```\n",
    "\n",
    "![image](./images/1.3.png)"
   ]
  },
  {
   "cell_type": "markdown",
   "id": "49771017",
   "metadata": {},
   "source": [
    "### 2.1. Вывести все уникальные бренды, у которых стандартная стоимость выше 1500 долларов"
   ]
  },
  {
   "attachments": {},
   "cell_type": "markdown",
   "id": "55ecc591",
   "metadata": {},
   "source": [
    "```SQL\n",
    "SELECT DISTINCT brand\n",
    "FROM transactions\n",
    "WHERE standard_cost > 1500;\n",
    "```\n",
    "\n",
    "![image](images/2.1.png)"
   ]
  },
  {
   "cell_type": "markdown",
   "id": "ef476423",
   "metadata": {},
   "source": [
    "### 2.2. Вывести все подтвержденные транзакции за период '2017-04-01' по '2017-04-09' включительно"
   ]
  },
  {
   "attachments": {},
   "cell_type": "markdown",
   "id": "fe5821ac",
   "metadata": {},
   "source": [
    "```SQL\n",
    "SELECT *\n",
    "FROM transactions\n",
    "WHERE order_status = 'Approved'\n",
    "  AND transaction_date BETWEEN '2017-04-01' AND '2017-04-09';\n",
    "```\n",
    "\n",
    "![image](images/2.2.png)"
   ]
  },
  {
   "cell_type": "markdown",
   "id": "a36b0e79",
   "metadata": {},
   "source": [
    "### 2.3. Вывести все профессии у клиентов из сферы IT или Financial Services, которые начинаются с фразы 'Senior'"
   ]
  },
  {
   "attachments": {},
   "cell_type": "markdown",
   "id": "c1bdb286",
   "metadata": {},
   "source": [
    "```SQL\n",
    "SELECT DISTINCT job_title\n",
    "FROM customers\n",
    "WHERE job_industry_category IN ('IT', 'Financial Services')\n",
    "  AND job_title LIKE 'Senior%';\n",
    "```\n",
    "\n",
    "![image](images/2.3.png)"
   ]
  },
  {
   "cell_type": "markdown",
   "id": "24d7c774",
   "metadata": {},
   "source": [
    "### 2.4. Вывести все бренды, которые закупают клиенты, работающие в сфере Financial Services"
   ]
  },
  {
   "attachments": {},
   "cell_type": "markdown",
   "id": "4f6745f4",
   "metadata": {},
   "source": [
    "```SQL\n",
    "SELECT DISTINCT t.brand\n",
    "FROM customers AS c\n",
    "JOIN transactions AS t ON c.customer_id = t.customer_id\n",
    "WHERE c.job_industry_category = 'Financial Services' \n",
    "  AND t.brand IS NOT NULL AND t.brand != ''; -- убираем пустые значения\n",
    "```\n",
    "\n",
    "![image](images/2.4.png)"
   ]
  },
  {
   "cell_type": "markdown",
   "id": "ba0d50d4",
   "metadata": {},
   "source": [
    "### 2.5. Вывести 10 клиентов, которые оформили онлайн-заказ продукции из брендов 'Giant Bicycles', 'Norco Bicycles', 'Trek Bicycles'"
   ]
  },
  {
   "attachments": {},
   "cell_type": "markdown",
   "id": "3f53f43c",
   "metadata": {},
   "source": [
    "```SQL\n",
    "SELECT DISTINCT c.customer_id, c.first_name, c.last_name\n",
    "FROM customers AS c\n",
    "JOIN transactions AS t ON c.customer_id = t.customer_id\n",
    "WHERE t.online_order = true\n",
    "  AND t.brand IN ('Giant Bicycles', 'Norco Bicycles', 'Trek Bicycles')\n",
    "LIMIT 10;  -- показать первые 10 клиентов\n",
    "```\n",
    "\n",
    "![image](images/2.5.png)"
   ]
  },
  {
   "cell_type": "markdown",
   "id": "e1e2e69f",
   "metadata": {},
   "source": [
    "### 2.6. Вывести всех клиентов, у которых нет транзакций"
   ]
  },
  {
   "attachments": {},
   "cell_type": "markdown",
   "id": "edbfdc3e",
   "metadata": {},
   "source": [
    "```SQL\n",
    "SELECT c.customer_id, c.first_name, c.last_name\n",
    "FROM customers AS c\n",
    "LEFT JOIN transactions AS t ON c.customer_id = t.customer_id\n",
    "WHERE t.transaction_id IS NULL;\n",
    "```\n",
    "\n",
    "![image](images/2.6.png)"
   ]
  },
  {
   "cell_type": "markdown",
   "id": "818f24fb",
   "metadata": {},
   "source": [
    "### 2.7. Вывести всех клиентов из IT, у которых транзакции с максимальной стандартной стоимостью"
   ]
  },
  {
   "attachments": {},
   "cell_type": "markdown",
   "id": "e7144d2e",
   "metadata": {},
   "source": [
    "```SQL\n",
    "SELECT DISTINCT c.customer_id, c.first_name, c.last_name,\n",
    "                t.transaction_id, t.standard_cost\n",
    "FROM customers AS c\n",
    "JOIN transactions AS t ON c.customer_id = t.customer_id\n",
    "\n",
    "WHERE c.job_industry_category = 'IT'\n",
    "  -- находим максимальную standart_cost\n",
    "  AND t.standard_cost = (SELECT MAX(standard_cost) FROM transactions);\n",
    "```\n",
    "\n",
    "![image](images/2.7.png)"
   ]
  },
  {
   "cell_type": "markdown",
   "id": "136d2afa",
   "metadata": {},
   "source": [
    "### 2.8. Вывести всех клиентов из сферы IT и Health, у которых есть подтвержденные транзакции за период '2017-07-07' по '2017-07-17'"
   ]
  },
  {
   "attachments": {},
   "cell_type": "markdown",
   "id": "2fe45114",
   "metadata": {},
   "source": [
    "```SQL\n",
    "SELECT DISTINCT c.customer_id, c.first_name, c.last_name,\n",
    "                t.transaction_date\n",
    "FROM customers AS c\n",
    "JOIN transactions AS t ON c.customer_id = t.customer_id\n",
    "\n",
    "WHERE c.job_industry_category IN ('IT', 'Health')\n",
    "  AND t.order_status = 'Approved'\n",
    "  AND t.transaction_date BETWEEN '2017-07-07' AND '2017-07-17'\n",
    "  \n",
    "ORDER BY transaction_date;\n",
    "```\n",
    "\n",
    "![image](images/2.8.png)"
   ]
  }
 ],
 "metadata": {
  "kernelspec": {
   "display_name": "Python 3 (ipykernel)",
   "language": "python",
   "name": "python3"
  },
  "language_info": {
   "codemirror_mode": {
    "name": "ipython",
    "version": 3
   },
   "file_extension": ".py",
   "mimetype": "text/x-python",
   "name": "python",
   "nbconvert_exporter": "python",
   "pygments_lexer": "ipython3",
   "version": "3.9.18"
  },
  "toc": {
   "base_numbering": 1,
   "nav_menu": {},
   "number_sections": true,
   "sideBar": true,
   "skip_h1_title": false,
   "title_cell": "Table of Contents",
   "title_sidebar": "Contents",
   "toc_cell": false,
   "toc_position": {},
   "toc_section_display": true,
   "toc_window_display": false
  },
  "varInspector": {
   "cols": {
    "lenName": 16,
    "lenType": 16,
    "lenVar": 40
   },
   "kernels_config": {
    "python": {
     "delete_cmd_postfix": "",
     "delete_cmd_prefix": "del ",
     "library": "var_list.py",
     "varRefreshCmd": "print(var_dic_list())"
    },
    "r": {
     "delete_cmd_postfix": ") ",
     "delete_cmd_prefix": "rm(",
     "library": "var_list.r",
     "varRefreshCmd": "cat(var_dic_list()) "
    }
   },
   "types_to_exclude": [
    "module",
    "function",
    "builtin_function_or_method",
    "instance",
    "_Feature"
   ],
   "window_display": false
  }
 },
 "nbformat": 4,
 "nbformat_minor": 5
}
